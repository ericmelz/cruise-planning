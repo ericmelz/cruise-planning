{
 "cells": [
  {
   "cell_type": "markdown",
   "id": "bad9b252-70c1-4592-86ac-9540c405b721",
   "metadata": {},
   "source": [
    "# Shopping List Generator\n",
    "* Read files scraped from Youtube\n",
    "* Generate lists of items\n",
    "* Dedup items\n",
    "* Output csv with unique items and their descriptions"
   ]
  },
  {
   "cell_type": "code",
   "execution_count": 1,
   "id": "18b0bc72-27c3-4789-a1f3-0680e42da199",
   "metadata": {},
   "outputs": [],
   "source": [
    "from pathlib import Path\n",
    "from collections import defaultdict\n",
    "import csv\n",
    "import re"
   ]
  },
  {
   "cell_type": "code",
   "execution_count": 2,
   "id": "337bba7f-9a5e-47a5-b506-a47a5b1e2cc3",
   "metadata": {},
   "outputs": [],
   "source": [
    "\n",
    "def get_files():\n",
    "    data_dir = Path('../data')\n",
    "    paths = [f for f in data_dir.rglob('*') if f.is_file() and not f.name.endswith('~')]\n",
    "    return paths\n",
    "\n",
    "def read_file(file: Path) -> str:\n",
    "    with open(file, 'r', encoding='utf-8') as f:\n",
    "        contents = f.read()\n",
    "        return contents\n",
    "\n",
    "\n",
    "def parse_amazon_links_with_section(text: str):\n",
    "    \"\"\"\n",
    "    Extract Amazon links with descriptions.\n",
    "    If sub-items are under a section, prepend the section name.\n",
    "    \"\"\"\n",
    "    # Regex to detect section headings like \"Luggage tag holders:\"\n",
    "    section_pattern = re.compile(r'^(?P<section>.+?):\\s*$', flags=re.MULTILINE)\n",
    "\n",
    "    # Regex to find description + amazon link\n",
    "    link_pattern = re.compile(\n",
    "        r'(?P<desc>[^:\\n]+?):\\s*(?P<url>https?://(?:www\\.)?(?:amzn\\.to|amazon\\.[a-z.]+)[^\\s)\\]]+)',\n",
    "        flags=re.IGNORECASE\n",
    "    )\n",
    "\n",
    "    results = []\n",
    "    seen = set()\n",
    "    current_section = None\n",
    "\n",
    "    lines = text.splitlines()\n",
    "    for line in lines:\n",
    "        # Detect section header (e.g., \"Luggage tag holders:\")\n",
    "        sec_match = section_pattern.match(line.strip())\n",
    "        if sec_match:\n",
    "            current_section = sec_match.group('section').strip()\n",
    "            continue\n",
    "\n",
    "        # Look for link matches in the line\n",
    "        for m in link_pattern.finditer(line):\n",
    "            desc = m.group('desc').strip()\n",
    "            url = m.group('url').strip()\n",
    "\n",
    "            # If inside a section and desc isn't the section itself, prepend\n",
    "            if current_section and desc.lower() != current_section.lower():\n",
    "                if desc.startswith('*'):\n",
    "                    desc = f\"{current_section} for {desc.lstrip('*').strip()}\"\n",
    "                else:\n",
    "                    current_section = None\n",
    "\n",
    "            # Remove bullets/extra symbols\n",
    "            desc = re.sub(r'^[\\*\\-\\u2022\\u25CF\\ufeff\\s]+', '', desc)\n",
    "            desc = re.sub(r'\\s+', ' ', desc).strip()\n",
    "\n",
    "            # Deduplicate\n",
    "            if url in seen:\n",
    "                continue\n",
    "            seen.add(url)\n",
    "\n",
    "            results.append({'description': desc, 'url': url})\n",
    "\n",
    "    return results\n",
    "\n",
    "\n",
    "def merge_items(items_collection: list[list[dict[str, str]]]) -> list[dict[str, list[str]]]:\n",
    "    url2descs = defaultdict(list)\n",
    "    for items in items_collection:\n",
    "        for item in items:\n",
    "            url2descs[item['url']].append(item['description'])\n",
    "\n",
    "    result = []\n",
    "    for k, v in url2descs.items():\n",
    "        desc = '' if len(v) == 1 else f' ({len(v)})'\n",
    "        result.append({'url': k, 'description': v[0] + desc})\n",
    "    return result\n",
    "\n",
    "def print_items(items, cutoff=None):\n",
    "    count = 0\n",
    "    for i, it in enumerate(items, 1):\n",
    "        print(f\"{i:2d}. {it['description']} -> {it['url']}\")\n",
    "        count += 1\n",
    "        if cutoff and count >= cutoff:\n",
    "            break\n",
    "\n",
    "def get_items_collection():\n",
    "    files = get_files()\n",
    "    return [parse_amazon_links_with_section(read_file(f)) for f in files]\n",
    "\n",
    "\n",
    "def get_all_items():\n",
    "    items_collection = get_items_collection()\n",
    "    return merge_items(items_collection)\n",
    "\n",
    "\n",
    "def write_items():\n",
    "    items = get_all_items()\n",
    "    output_file = '../data/csv/items.csv'\n",
    "    with open(output_file, mode='w', newline='', encoding='utf-8') as f:\n",
    "        writer = csv.DictWriter(f, fieldnames=['description', 'url'])\n",
    "        writer.writeheader()\n",
    "        writer.writerows(items)"
   ]
  },
  {
   "cell_type": "code",
   "execution_count": 3,
   "id": "2329300f-271b-4b1e-937e-111079b77bcf",
   "metadata": {},
   "outputs": [],
   "source": [
    "items = get_all_items()"
   ]
  },
  {
   "cell_type": "code",
   "execution_count": 4,
   "id": "4130b4a4-2485-4735-aff0-619a32e18747",
   "metadata": {},
   "outputs": [
    {
     "name": "stdout",
     "output_type": "stream",
     "text": [
      " 1. LEVEL 8 Carry on luggage -> https://amzn.to/47dDzhd\n",
      " 2. Hanging toiletry bag (2) -> https://amzn.to/3Nb8fFY\n",
      " 3. Packing cubes (2) -> https://amzn.to/3wF1syG\n",
      " 4. Reef safe sunscreen -> https://amzn.to/3QstR4C\n"
     ]
    }
   ],
   "source": [
    "print_items(items, cutoff=4)"
   ]
  },
  {
   "cell_type": "code",
   "execution_count": 5,
   "id": "c64e065c-46cc-4fcd-a2f9-7ac13c4e84ad",
   "metadata": {},
   "outputs": [],
   "source": [
    "write_items()"
   ]
  },
  {
   "cell_type": "code",
   "execution_count": null,
   "id": "8fc79d57-d4aa-40d7-9492-8704239df160",
   "metadata": {},
   "outputs": [],
   "source": []
  }
 ],
 "metadata": {
  "kernelspec": {
   "display_name": "Python 3 (ipykernel)",
   "language": "python",
   "name": "python3"
  },
  "language_info": {
   "codemirror_mode": {
    "name": "ipython",
    "version": 3
   },
   "file_extension": ".py",
   "mimetype": "text/x-python",
   "name": "python",
   "nbconvert_exporter": "python",
   "pygments_lexer": "ipython3",
   "version": "3.12.11"
  }
 },
 "nbformat": 4,
 "nbformat_minor": 5
}
