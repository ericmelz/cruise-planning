{
 "cells": [
  {
   "cell_type": "markdown",
   "id": "bad9b252-70c1-4592-86ac-9540c405b721",
   "metadata": {},
   "source": [
    "# Shopping List Generator\n",
    "* Read files scraped from Youtube\n",
    "* Generate lists of items\n",
    "* Dedup items\n",
    "* Output csv with unique items and their descriptions"
   ]
  },
  {
   "cell_type": "code",
   "execution_count": 1,
   "id": "18b0bc72-27c3-4789-a1f3-0680e42da199",
   "metadata": {},
   "outputs": [],
   "source": [
    "from pathlib import Path\n",
    "import re"
   ]
  },
  {
   "cell_type": "code",
   "execution_count": 2,
   "id": "b1e1d4fc-0e0a-4af2-9d8b-d172cc02c45b",
   "metadata": {},
   "outputs": [],
   "source": [
    "def read_file(file: Path) -> str:\n",
    "    with open(file, 'r', encoding='utf-8') as f:\n",
    "        contents = f.read()\n",
    "        return contents\n",
    "\n",
    "\n",
    "def parse_amazon_links_with_section(text: str):\n",
    "    \"\"\"\n",
    "    Extract Amazon links with descriptions.\n",
    "    If sub-items are under a section, prepend the section name.\n",
    "    \"\"\"\n",
    "    # Regex to detect section headings like \"Luggage tag holders:\"\n",
    "    section_pattern = re.compile(r'^(?P<section>.+?):\\s*$', flags=re.MULTILINE)\n",
    "\n",
    "    # Regex to find description + amazon link\n",
    "    link_pattern = re.compile(\n",
    "        r'(?P<desc>[^:\\n]+?):\\s*(?P<url>https?://(?:www\\.)?(?:amzn\\.to|amazon\\.[a-z.]+)[^\\s)\\]]+)',\n",
    "        flags=re.IGNORECASE\n",
    "    )\n",
    "\n",
    "    results = []\n",
    "    seen = set()\n",
    "    current_section = None\n",
    "\n",
    "    lines = text.splitlines()\n",
    "    for line in lines:\n",
    "        # Detect section header (e.g., \"Luggage tag holders:\")\n",
    "        sec_match = section_pattern.match(line.strip())\n",
    "        if sec_match:\n",
    "            current_section = sec_match.group('section').strip()\n",
    "            continue\n",
    "\n",
    "        # Look for link matches in the line\n",
    "        for m in link_pattern.finditer(line):\n",
    "            desc = m.group('desc').strip()\n",
    "            url = m.group('url').strip()\n",
    "\n",
    "            # If inside a section and desc isn't the section itself, prepend\n",
    "            if current_section and desc.lower() != current_section.lower():\n",
    "                if desc.startswith('*'):\n",
    "                    desc = f\"{current_section} for {desc.lstrip('*').strip()}\"\n",
    "                else:\n",
    "                    current_section = None\n",
    "\n",
    "            # Remove bullets/extra symbols\n",
    "            desc = re.sub(r'^[\\*\\-\\u2022\\u25CF\\ufeff\\s]+', '', desc)\n",
    "            desc = re.sub(r'\\s+', ' ', desc).strip()\n",
    "\n",
    "            # Deduplicate\n",
    "            if url in seen:\n",
    "                continue\n",
    "            seen.add(url)\n",
    "\n",
    "            results.append({'description': desc, 'url': url})\n",
    "\n",
    "    return results\n"
   ]
  },
  {
   "cell_type": "code",
   "execution_count": 3,
   "id": "a2507eaa-a751-49d3-9766-643fde1dcad8",
   "metadata": {},
   "outputs": [
    {
     "name": "stdout",
     "output_type": "stream",
     "text": [
      "[PosixPath('../data/youtube/bJqGx_JKpVY'), PosixPath('../data/youtube/ZSh3VHkll1M'), PosixPath('../data/youtube/IoCUhUSKj1g')]\n"
     ]
    }
   ],
   "source": [
    "data_dir = Path('../data')\n",
    "files = [f for f in data_dir.rglob('*') if f.is_file() and not f.name.endswith(\"~\")]\n",
    "print(files)"
   ]
  },
  {
   "cell_type": "code",
   "execution_count": 4,
   "id": "5e3d8a47-d4c0-4d8d-966a-1371f53f4822",
   "metadata": {},
   "outputs": [],
   "source": [
    "text = read_file(data_dir / files[1])"
   ]
  },
  {
   "cell_type": "code",
   "execution_count": 5,
   "id": "4d761377-0e16-4607-a71f-ec27c44d09b7",
   "metadata": {},
   "outputs": [],
   "source": [
    "items = parse_amazon_links_with_section(text)"
   ]
  },
  {
   "cell_type": "code",
   "execution_count": 6,
   "id": "824fe5a8-7dff-4865-a563-f0b3db5d4bfa",
   "metadata": {},
   "outputs": [
    {
     "name": "stdout",
     "output_type": "stream",
     "text": [
      " 1. Waterproof phone case on lanyard -> https://amzn.to/3iXCuT6\n",
      " 2. Lanyards -> https://amzn.to/448kKdU\n",
      " 3. Hat clip -> https://amzn.to/3r78DPz\n",
      " 4. Sun hat -> https://amzn.to/3rb522W\n",
      " 5. Iwalk phone charger -> https://amzn.to/3XxltTq\n",
      " 6. Portable power bank -> https://amzn.to/3pAjhhl\n",
      " 7. Travel adapter -> https://amzn.to/3pp1kCtMini\n",
      " 8. white noise machine -> https://amzn.to/44dg2eP\n",
      " 9. No surge power bar -> https://amzn.to/3NCRu7d\n",
      "10. Travel containers -> https://amzn.to/3PFlsuF\n",
      "11. Insulated water bottle -> https://amzn.to/3PGFTrg\n",
      "12. Collapsible water bottle -> https://amzn.to/3NziMft\n",
      "13. Money belt -> https://amzn.to/3JBVOmP\n",
      "14. Compression socks -> https://amzn.to/46K8fHh\n",
      "15. Pressure relief ear plugs -> https://amzn.to/448l0cS\n",
      "16. Pill box organizer -> https://amzn.to/3JCTFXW\n",
      "17. Magnet hooks -> https://amzn.to/3wZgj77\n",
      "18. Foldable hangers -> https://amzn.to/3JIfKUW\n",
      "19. Carry on travel bag -> https://amzn.to/3NwzJHv\n",
      "20. Nautical carry on bag -> https://amzn.to/2TH7L3T\n",
      "21. Luggage strap -> https://amzn.to/3NsQQtG\n",
      "22. Hanging toiletry bag -> https://amzn.to/3Nb8fFY\n",
      "23. Cosmetic bag -> https://amzn.to/46rfqE5\n",
      "24. Travel pillow -> https://amzn.to/44unull\n",
      "25. Passport holder wallet -> https://amzn.to/3f6VqNW\n",
      "26. Shoe bags -> https://amzn.to/3PKMUr7\n",
      "27. Air tags -> https://amzn.to/3NuSNWu\n",
      "28. Air tag holders -> https://amzn.to/3CY5N1U\n",
      "29. Tile Tracker -> https://amzn.to/438LARF\n",
      "30. Luggage tag holders for Royal Caribbean -> https://amzn.to/3tvNzB5\n",
      "31. Luggage tag holders for Celebrity -> https://amzn.to/3JB36Fk\n",
      "32. Luggage tag holders for Norwegian -> https://amzn.to/3JzGiFP\n",
      "33. Luggage tag holders for Princess -> https://amzn.to/3wvgW8t\n",
      "34. Luggage tag holders for Carnival -> https://amzn.to/3uhaUFM\n",
      "35. Luggage tag holders for HAL -> https://amzn.to/3tz7tLs\n",
      "36. Reef safe sunscreen -> https://amzn.to/3rHUlRS\n",
      "37. Tinted lip balm -> https://amzn.to/3PBuLff\n",
      "38. Aloe Vera gel -> https://amzn.to/445oQ6D\n",
      "39. Digital watch -> https://amzn.to/3XyfSwa\n",
      "40. Microfiber towel -> https://amzn.to/44wzG5n\n",
      "41. Water shoes -> https://amzn.to/44rElFD\n",
      "42. Towel clips -> https://amzn.to/3b4cj9V\n",
      "43. Towel bands -> https://amzn.to/3PKNsgF\n",
      "44. Towel band with clips -> https://amzn.to/3XrB1aR\n",
      "45. Mesh beach bag -> https://amzn.to/46y1nfN\n",
      "46. Straw bag -> https://amzn.to/3pq8w1c\n",
      "47. Straw clutch wristlets -> https://amzn.to/3CVZaND\n",
      "48. Midi dress -> https://amzn.to/3NyQUrJ\n",
      "49. Cover up -> https://amzn.to/3Pz7J8K\n",
      "50. Crochet cover up -> https://amzn.to/3NzFWCu\n",
      "51. Black swimsuit -> https://amzn.to/3ptoFmv\n",
      "52. Luggage sleeve -> https://amzn.to/3rd2z8j\n",
      "53. Toiletry skins -> https://amzn.to/3JHzBUf\n",
      "54. Packing cubes set -> https://amzn.to/3wF1syG\n",
      "55. Over the door organizer -> https://amzn.to/3Dx2m1N\n",
      "56. Cruise card holder -> https://amzn.to/3EWtRUL\n",
      "57. Poo-Pourri -> https://amzn.to/3vJCaM8\n",
      "58. Travel alarm clock -> https://amzn.to/3iYuYXN\n",
      "59. Night light -> https://amzn.to/33eMEqP\n",
      "60. Laundry hamper -> https://amzn.to/2YMyJtw\n",
      "61. Travel fan -> https://amzn.to/3uMc24t\n",
      "62. Bonine -> https://amzn.to/3NE87zo\n",
      "63. Seabands -> https://amzn.to/3LxvLvt\n",
      "64. Travel luggage scale -> https://amzn.to/3tIbzAX\n",
      "65. Binoculars -> https://amzn.to/3pMWbUD\n",
      "66. More Items we LOVE @ Life Well Cruised Amazon Store -> https://amzn.to/3QaoV29\n"
     ]
    }
   ],
   "source": [
    "for i, it in enumerate(items, 1):\n",
    "    print(f\"{i:2d}. {it['description']} -> {it['url']}\")"
   ]
  },
  {
   "cell_type": "code",
   "execution_count": null,
   "id": "f42885ab-ceaa-485a-acf0-e3c2e6335937",
   "metadata": {},
   "outputs": [],
   "source": []
  }
 ],
 "metadata": {
  "kernelspec": {
   "display_name": "Python 3 (ipykernel)",
   "language": "python",
   "name": "python3"
  },
  "language_info": {
   "codemirror_mode": {
    "name": "ipython",
    "version": 3
   },
   "file_extension": ".py",
   "mimetype": "text/x-python",
   "name": "python",
   "nbconvert_exporter": "python",
   "pygments_lexer": "ipython3",
   "version": "3.12.11"
  }
 },
 "nbformat": 4,
 "nbformat_minor": 5
}
